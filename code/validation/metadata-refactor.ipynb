{
 "cells": [
  {
   "cell_type": "code",
   "execution_count": 1,
   "metadata": {},
   "outputs": [],
   "source": [
    "import yaml\n",
    "import pandas\n",
    "import numpy as np\n",
    "import os\n",
    "import glob"
   ]
  },
  {
   "cell_type": "code",
   "execution_count": 2,
   "metadata": {},
   "outputs": [],
   "source": [
    "metadatas = glob.glob(\"../../data-processed/**/metadata-*.txt\")"
   ]
  },
  {
   "cell_type": "code",
   "execution_count": 3,
   "metadata": {},
   "outputs": [
    {
     "data": {
      "text/plain": [
       "['../../data-processed/OliverWyman-Navigator/metadata-OliverWyman-Navigator.txt',\n",
       " '../../data-processed/CU-nochange/metadata-CU-nochange.txt',\n",
       " '../../data-processed/Covid19Sim-Simulator/metadata-Covid19Sim-Simulator.txt',\n",
       " '../../data-processed/CovidActNow-SEIR_CAN/metadata-CovidActNow-SEIR_CAN.txt',\n",
       " '../../data-processed/GT-DeepCOVID/metadata-GT-DeepCOVID.txt',\n",
       " '../../data-processed/CU-scenario_mid/metadata-CU-scenario_mid.txt',\n",
       " '../../data-processed/Geneva-DetGrowth/metadata-Geneva-DetGrowth.txt',\n",
       " '../../data-processed/USACE-ERDC_SEIR/metadata-USACE-ERDC_SEIR.txt',\n",
       " '../../data-processed/NotreDame-FRED/metadata-NotreDame-FRED.txt',\n",
       " '../../data-processed/NotreDame-mobility/metadata-NotreDame-mobility.txt',\n",
       " '../../data-processed/UChicago-CovidIL_10_increase/metadata-UChicago-CovidIL_10_increase.txt',\n",
       " '../../data-processed/Imperial-ensemble1/metadata-Imperial-ensemble1.txt',\n",
       " '../../data-processed/Auquan-SEIR/metadata-Auquan-SEIR.txt',\n",
       " '../../data-processed/STH-3PU/metadata-STH-3PU.txt',\n",
       " '../../data-processed/LANL-GrowthRate/metadata-LANL-GrowthRate.txt',\n",
       " '../../data-processed/SWC-TerminusCM/metadata-SWC-TerminusCM.txt',\n",
       " '../../data-processed/UChicago-CovidIL_40/metadata-UChicago-CovidIL_40.txt',\n",
       " '../../data-processed/CU-scenario_low/metadata-CU-scenario_low.txt',\n",
       " '../../data-processed/UA-EpiCovDA/metadata-UA-EpiCovDA.txt',\n",
       " '../../data-processed/QJHong-Encounter/metadata-QJHong-Encounter.txt',\n",
       " '../../data-processed/Columbia_UNC-SurvCon/metadata-Columbia_UNC-SurvCon.txt',\n",
       " '../../data-processed/UT-Mobility/metadata-UT-Mobility.txt',\n",
       " '../../data-processed/Quantori-Multiagents/metadata-Quantori-Multiagents.txt',\n",
       " '../../data-processed/JHU_IDD-CovidSP/metadata-JHU_IDD-CovidSP.txt',\n",
       " '../../data-processed/UCLA-SuEIR/metadata-UCLA-SuEIR.txt',\n",
       " '../../data-processed/CU-scenario_high/metadata-CU-scenario_high.txt',\n",
       " '../../data-processed/YYG-ParamSearch/metadata-YYG-ParamSearch.txt',\n",
       " '../../data-processed/IowaStateLW-STEM/metadata-IowaStateLW-STEM.txt',\n",
       " '../../data-processed/UMass-ExpertCrowd/metadata-UMass-ExpertCrowd.txt',\n",
       " '../../data-processed/MIT_CovAlliance-SIR/metadata-MIT_CovAlliance-SIR.txt',\n",
       " '../../data-processed/COVIDhub-ensemble/metadata-COVIDhub-ensemble.txt',\n",
       " '../../data-processed/MOBS_NEU-GLEAM_COVID/metadata-MOBS_NEU-GLEAM_COVID.txt',\n",
       " '../../data-processed/USC-SI_kJalpha/metadata-USC-SI_kJalpha.txt',\n",
       " '../../data-processed/ISUandPKU-vSEIdR/metadata-ISUandPKU-vSEIdR.txt',\n",
       " '../../data-processed/UChicago-CovidIL_100/metadata-UChicago-CovidIL_100.txt',\n",
       " '../../data-processed/UChicago-CovidIL_60/metadata-UChicago-CovidIL_60.txt',\n",
       " '../../data-processed/UMass-MechBayes/metadata-UMass-MechBayes.txt',\n",
       " '../../data-processed/UChicago-CovidIL_30_increase/metadata-UChicago-CovidIL_30_increase.txt',\n",
       " '../../data-processed/UChicago-CovidIL_80/metadata-UChicago-CovidIL_80.txt',\n",
       " '../../data-processed/CDDEP-GlobalAgentBasedModel/metadata-CDDEP-GlobalAgentBasedModel.txt',\n",
       " '../../data-processed/epiforecasts-ensemble1/metadata-epiforecasts-ensemble1.txt',\n",
       " '../../data-processed/IHME-CurveFit/metadata-IHME-CurveFit.txt',\n",
       " '../../data-processed/UChicago-CovidIL/metadata-UChicago-CovidIL.txt',\n",
       " '../../data-processed/Imperial-ensemble2/metadata-Imperial-ensemble2.txt',\n",
       " '../../data-processed/MIT_CovidAnalytics-DELPHI/metadata-MIT_CovidAnalytics-DELPHI.txt',\n",
       " '../../data-processed/GT_CHHS-COVID19/metadata-GT_CHHS-COVID19.txt',\n",
       " '../../data-processed/CU-select/metadata-CU-select.txt',\n",
       " '../../data-processed/PSI-DRAFT/metadata-PSI-DRAFT.txt']"
      ]
     },
     "execution_count": 3,
     "metadata": {},
     "output_type": "execute_result"
    }
   ],
   "source": [
    "metadatas"
   ]
  },
  {
   "cell_type": "code",
   "execution_count": 4,
   "metadata": {},
   "outputs": [
    {
     "name": "stdout",
     "output_type": "stream",
     "text": [
      "Sucessfully updated metadata\n"
     ]
    }
   ],
   "source": [
    "for metadata in metadatas:\n",
    "    with open(metadata, 'r') as r:\n",
    "        meta = yaml.load(r, Loader=yaml.BaseLoader)\n",
    "        meta['model_abbr'] = '%s-%s'%(meta['team_abbr'], meta['model_abbr'])\n",
    "        if 'team_abbr' in meta:\n",
    "            del meta['team_abbr']\n",
    "        if 'this_model_is_an_ensemble' in meta:\n",
    "            del meta['this_model_is_an_ensemble']\n",
    "#         print(meta)\n",
    "    with open(metadata, 'w') as w:\n",
    "        yaml.dump(meta, w)\n",
    "print('Sucessfully updated metadata')"
   ]
  },
  {
   "cell_type": "code",
   "execution_count": null,
   "metadata": {},
   "outputs": [],
   "source": []
  }
 ],
 "metadata": {
  "kernelspec": {
   "display_name": "Python 3",
   "language": "python",
   "name": "python3"
  },
  "language_info": {
   "codemirror_mode": {
    "name": "ipython",
    "version": 3
   },
   "file_extension": ".py",
   "mimetype": "text/x-python",
   "name": "python",
   "nbconvert_exporter": "python",
   "pygments_lexer": "ipython3",
   "version": "3.7.5"
  }
 },
 "nbformat": 4,
 "nbformat_minor": 4
}
