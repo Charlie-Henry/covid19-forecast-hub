{
 "cells": [
  {
   "cell_type": "code",
   "execution_count": 17,
   "metadata": {},
   "outputs": [],
   "source": [
    "import yaml\n",
    "import pandas\n",
    "import numpy as np\n",
    "import os\n",
    "import glob"
   ]
  },
  {
   "cell_type": "code",
   "execution_count": 42,
   "metadata": {},
   "outputs": [],
   "source": [
    "metadatas = glob.glob(\"../zoltar_scripts/tests/data/**/metadata-*.txt\")"
   ]
  },
  {
   "cell_type": "code",
   "execution_count": 43,
   "metadata": {},
   "outputs": [
    {
     "data": {
      "text/plain": [
       "['../zoltar_scripts/tests/data/NotreDame-mobility/metadata-NotreDame-mobility.txt',\n",
       " '../zoltar_scripts/tests/data/COVIDhub-ensemble/metadata-COVIDhub-ensemble.txt']"
      ]
     },
     "execution_count": 43,
     "metadata": {},
     "output_type": "execute_result"
    }
   ],
   "source": [
    "metadatas"
   ]
  },
  {
   "cell_type": "code",
   "execution_count": 44,
   "metadata": {},
   "outputs": [
    {
     "name": "stdout",
     "output_type": "stream",
     "text": [
      "Sucessfully updated metadata\n"
     ]
    }
   ],
   "source": [
    "for metadata in metadatas:\n",
    "    with open(metadata, 'r') as r:\n",
    "        meta = yaml.load(r, Loader=yaml.BaseLoader)\n",
    "        meta['model_abbr'] = '%s-%s'%(meta['team_abbr'], meta['model_abbr'])\n",
    "        if 'team_abbr' in meta:\n",
    "            del meta['team_abbr']\n",
    "        if 'this_model_is_an_ensemble' in meta:\n",
    "            del meta['this_model_is_an_ensemble']\n",
    "#         print(meta)\n",
    "    with open(metadata, 'w') as w:\n",
    "        yaml.dump(meta, w)\n",
    "print('Sucessfully updated metadata')"
   ]
  },
  {
   "cell_type": "code",
   "execution_count": null,
   "metadata": {},
   "outputs": [],
   "source": []
  }
 ],
 "metadata": {
  "kernelspec": {
   "display_name": "Python 3",
   "language": "python",
   "name": "python3"
  },
  "language_info": {
   "codemirror_mode": {
    "name": "ipython",
    "version": 3
   },
   "file_extension": ".py",
   "mimetype": "text/x-python",
   "name": "python",
   "nbconvert_exporter": "python",
   "pygments_lexer": "ipython3",
   "version": "3.7.5"
  }
 },
 "nbformat": 4,
 "nbformat_minor": 4
}
